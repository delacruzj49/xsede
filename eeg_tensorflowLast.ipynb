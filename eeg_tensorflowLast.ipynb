{
 "cells": [
  {
   "cell_type": "code",
   "execution_count": 31,
   "metadata": {},
   "outputs": [],
   "source": [
    "import pandas as pd\n",
    "import numpy as np\n",
    "from tensorflow.python.keras.layers import Dense, Dropout\n",
    "from tensorflow.python.keras.models import Sequential\n"
   ]
  },
  {
   "cell_type": "code",
   "execution_count": 32,
   "metadata": {},
   "outputs": [
    {
     "data": {
      "text/html": [
       "<div>\n",
       "<style>\n",
       "    .dataframe thead tr:only-child th {\n",
       "        text-align: right;\n",
       "    }\n",
       "\n",
       "    .dataframe thead th {\n",
       "        text-align: left;\n",
       "    }\n",
       "\n",
       "    .dataframe tbody tr th {\n",
       "        vertical-align: top;\n",
       "    }\n",
       "</style>\n",
       "<table border=\"1\" class=\"dataframe\">\n",
       "  <thead>\n",
       "    <tr style=\"text-align: right;\">\n",
       "      <th></th>\n",
       "      <th>delta</th>\n",
       "      <th>theta</th>\n",
       "      <th>alpha</th>\n",
       "      <th>beta</th>\n",
       "      <th>gamma</th>\n",
       "      <th>deltaRIR</th>\n",
       "      <th>thetaRIR</th>\n",
       "      <th>alphaRIR</th>\n",
       "      <th>betaRIR</th>\n",
       "      <th>gammaRIR</th>\n",
       "      <th>PFD</th>\n",
       "      <th>HFD</th>\n",
       "      <th>hjorth_mobility</th>\n",
       "      <th>hjorth_complexity</th>\n",
       "      <th>spec_entropy</th>\n",
       "      <th>svd_entropy</th>\n",
       "      <th>fisher_info</th>\n",
       "      <th>approx_entropy</th>\n",
       "      <th>DFA</th>\n",
       "      <th>Hurst</th>\n",
       "    </tr>\n",
       "  </thead>\n",
       "  <tbody>\n",
       "    <tr>\n",
       "      <th>0</th>\n",
       "      <td>9.146127</td>\n",
       "      <td>0.124560</td>\n",
       "      <td>0.207870</td>\n",
       "      <td>1.323610</td>\n",
       "      <td>8.539201</td>\n",
       "      <td>0.472879</td>\n",
       "      <td>0.006440</td>\n",
       "      <td>0.010747</td>\n",
       "      <td>0.068434</td>\n",
       "      <td>0.441499</td>\n",
       "      <td>0.593371</td>\n",
       "      <td>1.336854</td>\n",
       "      <td>0.022963</td>\n",
       "      <td>65.502007</td>\n",
       "      <td>0.384538</td>\n",
       "      <td>1.232800</td>\n",
       "      <td>0.593851</td>\n",
       "      <td>0.011597</td>\n",
       "      <td>0.0</td>\n",
       "      <td>0.327041</td>\n",
       "    </tr>\n",
       "    <tr>\n",
       "      <th>1</th>\n",
       "      <td>9.237802</td>\n",
       "      <td>0.183133</td>\n",
       "      <td>0.272752</td>\n",
       "      <td>1.374715</td>\n",
       "      <td>7.838586</td>\n",
       "      <td>0.488592</td>\n",
       "      <td>0.009686</td>\n",
       "      <td>0.014426</td>\n",
       "      <td>0.072709</td>\n",
       "      <td>0.414587</td>\n",
       "      <td>0.596590</td>\n",
       "      <td>1.286488</td>\n",
       "      <td>0.021640</td>\n",
       "      <td>69.486633</td>\n",
       "      <td>0.401754</td>\n",
       "      <td>1.238537</td>\n",
       "      <td>0.602716</td>\n",
       "      <td>0.017751</td>\n",
       "      <td>0.0</td>\n",
       "      <td>0.358991</td>\n",
       "    </tr>\n",
       "    <tr>\n",
       "      <th>2</th>\n",
       "      <td>9.191974</td>\n",
       "      <td>0.201032</td>\n",
       "      <td>0.196933</td>\n",
       "      <td>1.266698</td>\n",
       "      <td>6.992506</td>\n",
       "      <td>0.514981</td>\n",
       "      <td>0.011263</td>\n",
       "      <td>0.011033</td>\n",
       "      <td>0.070967</td>\n",
       "      <td>0.391756</td>\n",
       "      <td>0.595497</td>\n",
       "      <td>1.325996</td>\n",
       "      <td>0.021831</td>\n",
       "      <td>69.116223</td>\n",
       "      <td>0.391288</td>\n",
       "      <td>1.164619</td>\n",
       "      <td>0.617252</td>\n",
       "      <td>0.017260</td>\n",
       "      <td>0.0</td>\n",
       "      <td>0.382984</td>\n",
       "    </tr>\n",
       "    <tr>\n",
       "      <th>3</th>\n",
       "      <td>9.105620</td>\n",
       "      <td>0.128693</td>\n",
       "      <td>0.180722</td>\n",
       "      <td>0.969727</td>\n",
       "      <td>7.442977</td>\n",
       "      <td>0.510756</td>\n",
       "      <td>0.007219</td>\n",
       "      <td>0.010137</td>\n",
       "      <td>0.054394</td>\n",
       "      <td>0.417494</td>\n",
       "      <td>0.591319</td>\n",
       "      <td>1.348682</td>\n",
       "      <td>0.022832</td>\n",
       "      <td>66.494750</td>\n",
       "      <td>0.362653</td>\n",
       "      <td>1.183010</td>\n",
       "      <td>0.610838</td>\n",
       "      <td>0.004925</td>\n",
       "      <td>0.0</td>\n",
       "      <td>0.333982</td>\n",
       "    </tr>\n",
       "    <tr>\n",
       "      <th>4</th>\n",
       "      <td>9.083692</td>\n",
       "      <td>0.120542</td>\n",
       "      <td>0.195038</td>\n",
       "      <td>1.186761</td>\n",
       "      <td>8.570771</td>\n",
       "      <td>0.474176</td>\n",
       "      <td>0.006292</td>\n",
       "      <td>0.010181</td>\n",
       "      <td>0.061950</td>\n",
       "      <td>0.447401</td>\n",
       "      <td>0.589337</td>\n",
       "      <td>1.352522</td>\n",
       "      <td>0.025081</td>\n",
       "      <td>61.507472</td>\n",
       "      <td>0.375736</td>\n",
       "      <td>1.254383</td>\n",
       "      <td>0.575881</td>\n",
       "      <td>-0.000563</td>\n",
       "      <td>0.0</td>\n",
       "      <td>0.336067</td>\n",
       "    </tr>\n",
       "  </tbody>\n",
       "</table>\n",
       "</div>"
      ],
      "text/plain": [
       "      delta     theta     alpha      beta     gamma       deltaRIR  thetaRIR  \\\n",
       "0  9.146127  0.124560  0.207870  1.323610  8.539201       0.472879  0.006440   \n",
       "1  9.237802  0.183133  0.272752  1.374715  7.838586       0.488592  0.009686   \n",
       "2  9.191974  0.201032  0.196933  1.266698  6.992506       0.514981  0.011263   \n",
       "3  9.105620  0.128693  0.180722  0.969727  7.442977       0.510756  0.007219   \n",
       "4  9.083692  0.120542  0.195038  1.186761  8.570771       0.474176  0.006292   \n",
       "\n",
       "   alphaRIR   betaRIR  gammaRIR       PFD       HFD  hjorth_mobility  \\\n",
       "0  0.010747  0.068434  0.441499  0.593371  1.336854         0.022963   \n",
       "1  0.014426  0.072709  0.414587  0.596590  1.286488         0.021640   \n",
       "2  0.011033  0.070967  0.391756  0.595497  1.325996         0.021831   \n",
       "3  0.010137  0.054394  0.417494  0.591319  1.348682         0.022832   \n",
       "4  0.010181  0.061950  0.447401  0.589337  1.352522         0.025081   \n",
       "\n",
       "   hjorth_complexity       spec_entropy  svd_entropy  fisher_info  \\\n",
       "0          65.502007           0.384538     1.232800     0.593851   \n",
       "1          69.486633           0.401754     1.238537     0.602716   \n",
       "2          69.116223           0.391288     1.164619     0.617252   \n",
       "3          66.494750           0.362653     1.183010     0.610838   \n",
       "4          61.507472           0.375736     1.254383     0.575881   \n",
       "\n",
       "        approx_entropy  DFA     Hurst  \n",
       "0             0.011597  0.0  0.327041  \n",
       "1             0.017751  0.0  0.358991  \n",
       "2             0.017260  0.0  0.382984  \n",
       "3             0.004925  0.0  0.333982  \n",
       "4            -0.000563  0.0  0.336067  "
      ]
     },
     "metadata": {},
     "output_type": "display_data"
    }
   ],
   "source": [
    "df1 = pd.read_csv(\"features.csv\")\n",
    "display(df1.head())\n",
    "#df2 = pd.read_csv(\"filteredS.csv\")\n",
    "#display(df2.head())\n",
    "#df3 = pd.read_csv(\"filteredS.csv\")\n",
    "#df3.head()"
   ]
  },
  {
   "cell_type": "code",
   "execution_count": 33,
   "metadata": {
    "collapsed": true
   },
   "outputs": [],
   "source": [
    "OUTPUT_COL = \"delta\""
   ]
  },
  {
   "cell_type": "code",
   "execution_count": 34,
   "metadata": {},
   "outputs": [],
   "source": [
    "df = df1\n",
    "df = df.drop([\"alpha\",\"Hurst\",\"DFA\"], axis=1)"
   ]
  },
  {
   "cell_type": "code",
   "execution_count": 35,
   "metadata": {
    "collapsed": true
   },
   "outputs": [],
   "source": [
    "from sklearn.model_selection import train_test_split\n",
    "\n",
    "X_train, X_test, y_train, y_test = train_test_split(df.drop(OUTPUT_COL, axis=1), df[OUTPUT_COL], test_size=0.25)"
   ]
  },
  {
   "cell_type": "code",
   "execution_count": 36,
   "metadata": {},
   "outputs": [
    {
     "name": "stdout",
     "output_type": "stream",
     "text": [
      "Model: \"sequential\"\n",
      "_________________________________________________________________\n",
      "Layer (type)                 Output Shape              Param #   \n",
      "=================================================================\n",
      "dense (Dense)                (None, 25)                425       \n",
      "_________________________________________________________________\n",
      "dropout (Dropout)            (None, 25)                0         \n",
      "_________________________________________________________________\n",
      "dense_1 (Dense)              (None, 125)               3250      \n",
      "_________________________________________________________________\n",
      "dropout_1 (Dropout)          (None, 125)               0         \n",
      "_________________________________________________________________\n",
      "dense_2 (Dense)              (None, 125)               15750     \n",
      "_________________________________________________________________\n",
      "dropout_2 (Dropout)          (None, 125)               0         \n",
      "_________________________________________________________________\n",
      "dense_3 (Dense)              (None, 1)                 126       \n",
      "=================================================================\n",
      "Total params: 19,551\n",
      "Trainable params: 19,551\n",
      "Non-trainable params: 0\n",
      "_________________________________________________________________\n"
     ]
    }
   ],
   "source": [
    "model = Sequential()\n",
    "\n",
    "model.add(Dense(25, input_shape=(X_train.shape[1],)))\n",
    "model.add(Dropout(0.2))\n",
    "\n",
    "model.add(Dense(125))\n",
    "model.add(Dropout(0.5))\n",
    "\n",
    "model.add(Dense(125))\n",
    "model.add(Dropout(0.5))\n",
    "          \n",
    "model.add(Dense(1))\n",
    "          \n",
    "model.compile(optimizer=\"adam\", loss=\"mse\")\n",
    "model.summary()"
   ]
  },
  {
   "cell_type": "code",
   "execution_count": 37,
   "metadata": {},
   "outputs": [
    {
     "name": "stdout",
     "output_type": "stream",
     "text": [
      "Epoch 1/10\n",
      "174/174 [==============================] - 0s 3ms/sample - loss: 1359.2246\n",
      "Epoch 2/10\n",
      "174/174 [==============================] - 0s 50us/sample - loss: 625.1166\n",
      "Epoch 3/10\n",
      "174/174 [==============================] - 0s 51us/sample - loss: 381.1608\n",
      "Epoch 4/10\n",
      "174/174 [==============================] - 0s 44us/sample - loss: 547.8296\n",
      "Epoch 5/10\n",
      "174/174 [==============================] - 0s 55us/sample - loss: 501.1726\n",
      "Epoch 6/10\n",
      "174/174 [==============================] - 0s 39us/sample - loss: 498.2832\n",
      "Epoch 7/10\n",
      "174/174 [==============================] - 0s 49us/sample - loss: 564.5174\n",
      "Epoch 8/10\n",
      "174/174 [==============================] - 0s 36us/sample - loss: 417.0990\n",
      "Epoch 9/10\n",
      "174/174 [==============================] - 0s 37us/sample - loss: 333.4182\n",
      "Epoch 10/10\n",
      "174/174 [==============================] - 0s 48us/sample - loss: 272.7156\n"
     ]
    },
    {
     "data": {
      "text/plain": [
       "<tensorflow.python.keras.callbacks.History at 0x10b0f6a58>"
      ]
     },
     "execution_count": 37,
     "metadata": {},
     "output_type": "execute_result"
    }
   ],
   "source": [
    "model.fit(X_train, y_train, epochs=10, batch_size=256)"
   ]
  },
  {
   "cell_type": "code",
   "execution_count": null,
   "metadata": {
    "collapsed": true
   },
   "outputs": [],
   "source": []
  },
  {
   "cell_type": "code",
   "execution_count": null,
   "metadata": {
    "collapsed": true
   },
   "outputs": [],
   "source": []
  }
 ],
 "metadata": {
  "kernelspec": {
   "display_name": "Python 3",
   "language": "python",
   "name": "python3"
  },
  "language_info": {
   "codemirror_mode": {
    "name": "ipython",
    "version": 3
   },
   "file_extension": ".py",
   "mimetype": "text/x-python",
   "name": "python",
   "nbconvert_exporter": "python",
   "pygments_lexer": "ipython3",
   "version": "3.6.3"
  }
 },
 "nbformat": 4,
 "nbformat_minor": 2
}
